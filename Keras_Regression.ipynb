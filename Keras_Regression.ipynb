{
  "nbformat": 4,
  "nbformat_minor": 0,
  "metadata": {
    "colab": {
      "name": "Keras-Regression",
      "provenance": []
    },
    "kernelspec": {
      "display_name": "Python 3",
      "name": "python3"
    },
    "language_info": {
      "name": "python"
    },
    "accelerator": "GPU"
  },
  "cells": [
    {
      "cell_type": "code",
      "metadata": {
        "id": "aeLvYSrhhQmz"
      },
      "source": [
        "from keras.models import *\n",
        "from keras.layers import *\n",
        "from sklearn.datasets import load_iris, fetch_california_housing\n",
        "from sklearn.model_selection import *\n",
        "from sklearn.preprocessing import *\n",
        "from keras.callbacks import *\n",
        "import os\n",
        "import pandas as pd\n",
        "import seaborn as sns\n",
        "import matplotlib.pyplot as plt\n",
        "import numpy as np\n",
        "trp = \"/content/sample_data/california_housing_train.csv\"\n",
        "df = pd.read_csv(trp)\n"
      ],
      "execution_count": 36,
      "outputs": []
    },
    {
      "cell_type": "code",
      "metadata": {
        "colab": {
          "base_uri": "https://localhost:8080/"
        },
        "id": "60C-M23C45f8",
        "outputId": "5b2e2013-fe6c-4642-adbc-cedb6b76e749"
      },
      "source": [
        "!rm -rf ./my_logs/\n",
        "!mkdir my_logs \n",
        "df.info()"
      ],
      "execution_count": 37,
      "outputs": [
        {
          "output_type": "stream",
          "text": [
            "<class 'pandas.core.frame.DataFrame'>\n",
            "RangeIndex: 17000 entries, 0 to 16999\n",
            "Data columns (total 9 columns):\n",
            " #   Column              Non-Null Count  Dtype  \n",
            "---  ------              --------------  -----  \n",
            " 0   longitude           17000 non-null  float64\n",
            " 1   latitude            17000 non-null  float64\n",
            " 2   housing_median_age  17000 non-null  float64\n",
            " 3   total_rooms         17000 non-null  float64\n",
            " 4   total_bedrooms      17000 non-null  float64\n",
            " 5   population          17000 non-null  float64\n",
            " 6   households          17000 non-null  float64\n",
            " 7   median_income       17000 non-null  float64\n",
            " 8   median_house_value  17000 non-null  float64\n",
            "dtypes: float64(9)\n",
            "memory usage: 1.2 MB\n"
          ],
          "name": "stdout"
        }
      ]
    },
    {
      "cell_type": "code",
      "metadata": {
        "colab": {
          "base_uri": "https://localhost:8080/",
          "height": 419
        },
        "id": "ElDQZJh28rzH",
        "outputId": "6226d28e-8507-41c3-9385-45f55225ad67"
      },
      "source": [
        "df\n"
      ],
      "execution_count": 38,
      "outputs": [
        {
          "output_type": "execute_result",
          "data": {
            "text/html": [
              "<div>\n",
              "<style scoped>\n",
              "    .dataframe tbody tr th:only-of-type {\n",
              "        vertical-align: middle;\n",
              "    }\n",
              "\n",
              "    .dataframe tbody tr th {\n",
              "        vertical-align: top;\n",
              "    }\n",
              "\n",
              "    .dataframe thead th {\n",
              "        text-align: right;\n",
              "    }\n",
              "</style>\n",
              "<table border=\"1\" class=\"dataframe\">\n",
              "  <thead>\n",
              "    <tr style=\"text-align: right;\">\n",
              "      <th></th>\n",
              "      <th>longitude</th>\n",
              "      <th>latitude</th>\n",
              "      <th>housing_median_age</th>\n",
              "      <th>total_rooms</th>\n",
              "      <th>total_bedrooms</th>\n",
              "      <th>population</th>\n",
              "      <th>households</th>\n",
              "      <th>median_income</th>\n",
              "      <th>median_house_value</th>\n",
              "    </tr>\n",
              "  </thead>\n",
              "  <tbody>\n",
              "    <tr>\n",
              "      <th>0</th>\n",
              "      <td>-114.31</td>\n",
              "      <td>34.19</td>\n",
              "      <td>15.0</td>\n",
              "      <td>5612.0</td>\n",
              "      <td>1283.0</td>\n",
              "      <td>1015.0</td>\n",
              "      <td>472.0</td>\n",
              "      <td>1.4936</td>\n",
              "      <td>66900.0</td>\n",
              "    </tr>\n",
              "    <tr>\n",
              "      <th>1</th>\n",
              "      <td>-114.47</td>\n",
              "      <td>34.40</td>\n",
              "      <td>19.0</td>\n",
              "      <td>7650.0</td>\n",
              "      <td>1901.0</td>\n",
              "      <td>1129.0</td>\n",
              "      <td>463.0</td>\n",
              "      <td>1.8200</td>\n",
              "      <td>80100.0</td>\n",
              "    </tr>\n",
              "    <tr>\n",
              "      <th>2</th>\n",
              "      <td>-114.56</td>\n",
              "      <td>33.69</td>\n",
              "      <td>17.0</td>\n",
              "      <td>720.0</td>\n",
              "      <td>174.0</td>\n",
              "      <td>333.0</td>\n",
              "      <td>117.0</td>\n",
              "      <td>1.6509</td>\n",
              "      <td>85700.0</td>\n",
              "    </tr>\n",
              "    <tr>\n",
              "      <th>3</th>\n",
              "      <td>-114.57</td>\n",
              "      <td>33.64</td>\n",
              "      <td>14.0</td>\n",
              "      <td>1501.0</td>\n",
              "      <td>337.0</td>\n",
              "      <td>515.0</td>\n",
              "      <td>226.0</td>\n",
              "      <td>3.1917</td>\n",
              "      <td>73400.0</td>\n",
              "    </tr>\n",
              "    <tr>\n",
              "      <th>4</th>\n",
              "      <td>-114.57</td>\n",
              "      <td>33.57</td>\n",
              "      <td>20.0</td>\n",
              "      <td>1454.0</td>\n",
              "      <td>326.0</td>\n",
              "      <td>624.0</td>\n",
              "      <td>262.0</td>\n",
              "      <td>1.9250</td>\n",
              "      <td>65500.0</td>\n",
              "    </tr>\n",
              "    <tr>\n",
              "      <th>...</th>\n",
              "      <td>...</td>\n",
              "      <td>...</td>\n",
              "      <td>...</td>\n",
              "      <td>...</td>\n",
              "      <td>...</td>\n",
              "      <td>...</td>\n",
              "      <td>...</td>\n",
              "      <td>...</td>\n",
              "      <td>...</td>\n",
              "    </tr>\n",
              "    <tr>\n",
              "      <th>16995</th>\n",
              "      <td>-124.26</td>\n",
              "      <td>40.58</td>\n",
              "      <td>52.0</td>\n",
              "      <td>2217.0</td>\n",
              "      <td>394.0</td>\n",
              "      <td>907.0</td>\n",
              "      <td>369.0</td>\n",
              "      <td>2.3571</td>\n",
              "      <td>111400.0</td>\n",
              "    </tr>\n",
              "    <tr>\n",
              "      <th>16996</th>\n",
              "      <td>-124.27</td>\n",
              "      <td>40.69</td>\n",
              "      <td>36.0</td>\n",
              "      <td>2349.0</td>\n",
              "      <td>528.0</td>\n",
              "      <td>1194.0</td>\n",
              "      <td>465.0</td>\n",
              "      <td>2.5179</td>\n",
              "      <td>79000.0</td>\n",
              "    </tr>\n",
              "    <tr>\n",
              "      <th>16997</th>\n",
              "      <td>-124.30</td>\n",
              "      <td>41.84</td>\n",
              "      <td>17.0</td>\n",
              "      <td>2677.0</td>\n",
              "      <td>531.0</td>\n",
              "      <td>1244.0</td>\n",
              "      <td>456.0</td>\n",
              "      <td>3.0313</td>\n",
              "      <td>103600.0</td>\n",
              "    </tr>\n",
              "    <tr>\n",
              "      <th>16998</th>\n",
              "      <td>-124.30</td>\n",
              "      <td>41.80</td>\n",
              "      <td>19.0</td>\n",
              "      <td>2672.0</td>\n",
              "      <td>552.0</td>\n",
              "      <td>1298.0</td>\n",
              "      <td>478.0</td>\n",
              "      <td>1.9797</td>\n",
              "      <td>85800.0</td>\n",
              "    </tr>\n",
              "    <tr>\n",
              "      <th>16999</th>\n",
              "      <td>-124.35</td>\n",
              "      <td>40.54</td>\n",
              "      <td>52.0</td>\n",
              "      <td>1820.0</td>\n",
              "      <td>300.0</td>\n",
              "      <td>806.0</td>\n",
              "      <td>270.0</td>\n",
              "      <td>3.0147</td>\n",
              "      <td>94600.0</td>\n",
              "    </tr>\n",
              "  </tbody>\n",
              "</table>\n",
              "<p>17000 rows × 9 columns</p>\n",
              "</div>"
            ],
            "text/plain": [
              "       longitude  latitude  ...  median_income  median_house_value\n",
              "0        -114.31     34.19  ...         1.4936             66900.0\n",
              "1        -114.47     34.40  ...         1.8200             80100.0\n",
              "2        -114.56     33.69  ...         1.6509             85700.0\n",
              "3        -114.57     33.64  ...         3.1917             73400.0\n",
              "4        -114.57     33.57  ...         1.9250             65500.0\n",
              "...          ...       ...  ...            ...                 ...\n",
              "16995    -124.26     40.58  ...         2.3571            111400.0\n",
              "16996    -124.27     40.69  ...         2.5179             79000.0\n",
              "16997    -124.30     41.84  ...         3.0313            103600.0\n",
              "16998    -124.30     41.80  ...         1.9797             85800.0\n",
              "16999    -124.35     40.54  ...         3.0147             94600.0\n",
              "\n",
              "[17000 rows x 9 columns]"
            ]
          },
          "metadata": {
            "tags": []
          },
          "execution_count": 38
        }
      ]
    },
    {
      "cell_type": "code",
      "metadata": {
        "colab": {
          "base_uri": "https://localhost:8080/",
          "height": 649
        },
        "id": "6yB1rU1n3rR-",
        "outputId": "6939b765-b918-4fed-ec49-58d3a39e559c"
      },
      "source": [
        "plt.figure(figsize=(10,10))\n",
        "sns.heatmap(df.corr(),mask=np.triu(df.corr()),square=True,annot=True)\n",
        "plt.xticks(rotation=45)"
      ],
      "execution_count": 39,
      "outputs": [
        {
          "output_type": "execute_result",
          "data": {
            "text/plain": [
              "(array([0.5, 1.5, 2.5, 3.5, 4.5, 5.5, 6.5, 7.5, 8.5]),\n",
              " <a list of 9 Text major ticklabel objects>)"
            ]
          },
          "metadata": {
            "tags": []
          },
          "execution_count": 39
        },
        {
          "output_type": "display_data",
          "data": {
            "image/png": "[encoded data removed]",
            "text/plain": [
              "<Figure size 720x720 with 2 Axes>"
            ]
          },
          "metadata": {
            "tags": [],
            "needs_background": "light"
          }
        }
      ]
    },
    {
      "cell_type": "code",
      "metadata": {
        "colab": {
          "base_uri": "https://localhost:8080/",
          "height": 372
        },
        "id": "8agYWeI25UFC",
        "outputId": "b4ad3bf6-5717-40cb-a06a-5057fbdc96a3"
      },
      "source": [
        "sns.boxplot(data=df)\n",
        "plt.xticks(rotation=45)"
      ],
      "execution_count": 40,
      "outputs": [
        {
          "output_type": "execute_result",
          "data": {
            "text/plain": [
              "(array([0, 1, 2, 3, 4, 5, 6, 7, 8]),\n",
              " <a list of 9 Text major ticklabel objects>)"
            ]
          },
          "metadata": {
            "tags": []
          },
          "execution_count": 40
        },
        {
          "output_type": "display_data",
          "data": {
            "image/png": "[encoded data removed]",
            "text/plain": [
              "<Figure size 432x288 with 1 Axes>"
            ]
          },
          "metadata": {
            "tags": [],
            "needs_background": "light"
          }
        }
      ]
    },
    {
      "cell_type": "code",
      "metadata": {
        "colab": {
          "base_uri": "https://localhost:8080/",
          "height": 362
        },
        "id": "wN3WxFCL-UIq",
        "outputId": "3975830e-5cf0-40f2-e75b-7eb5cf8584c5"
      },
      "source": [
        "sns.distplot(df['median_house_value'])"
      ],
      "execution_count": 41,
      "outputs": [
        {
          "output_type": "stream",
          "text": [
            "/usr/local/lib/python3.7/dist-packages/seaborn/distributions.py:2557: FutureWarning: `distplot` is a deprecated function and will be removed in a future version. Please adapt your code to use either `displot` (a figure-level function with similar flexibility) or `histplot` (an axes-level function for histograms).\n",
            "  warnings.warn(msg, FutureWarning)\n"
          ],
          "name": "stderr"
        },
        {
          "output_type": "execute_result",
          "data": {
            "text/plain": [
              "<matplotlib.axes._subplots.AxesSubplot at 0x7f6c6af4b490>"
            ]
          },
          "metadata": {
            "tags": []
          },
          "execution_count": 41
        },
        {
          "output_type": "display_data",
          "data": {
            "image/png": "[encoded data removed]",
            "text/plain": [
              "<Figure size 432x288 with 1 Axes>"
            ]
          },
          "metadata": {
            "tags": [],
            "needs_background": "light"
          }
        }
      ]
    },
    {
      "cell_type": "code",
      "metadata": {
        "colab": {
          "base_uri": "https://localhost:8080/",
          "height": 35
        },
        "id": "4jrsoSf_M52c",
        "outputId": "020844c3-a488-439d-8778-89794d918eb9"
      },
      "source": [
        "root_logdir = os.path.join(os.curdir, \"my_logs\")\n",
        "def get_run_logdir():\n",
        "  import time\n",
        "  run_id = time.strftime(\"run_%Y_%m_%d-%H_%M_%S\")\n",
        "  return os.path.join(root_logdir, run_id)\n",
        "get_run_logdir()"
      ],
      "execution_count": 42,
      "outputs": [
        {
          "output_type": "execute_result",
          "data": {
            "application/vnd.google.colaboratory.intrinsic+json": {
              "type": "string"
            },
            "text/plain": [
              "'./my_logs/run_2021_06_20-16_57_43'"
            ]
          },
          "metadata": {
            "tags": []
          },
          "execution_count": 42
        }
      ]
    },
    {
      "cell_type": "code",
      "metadata": {
        "id": "OtKT8SDq2BRT"
      },
      "source": [
        ""
      ],
      "execution_count": 42,
      "outputs": []
    },
    {
      "cell_type": "code",
      "metadata": {
        "colab": {
          "base_uri": "https://localhost:8080/"
        },
        "id": "81lCxaoF6q8f",
        "outputId": "8a09c87f-7246-47f5-ab6a-c0cb385bf205"
      },
      "source": [
        "\n",
        "\n",
        "features = df.copy()\n",
        "target = features.pop(\"median_house_value\")\n",
        "from sklearn.preprocessing import *\n",
        "rob = RobustScaler() # normalizes shape\n",
        "rob_features = rob.fit_transform(features)\n",
        "\n",
        "sc = StandardScaler() # scales\n",
        "sc_features = sc.fit_transform(rob_features)\n",
        "sc_features.mean()"
      ],
      "execution_count": 43,
      "outputs": [
        {
          "output_type": "execute_result",
          "data": {
            "text/plain": [
              "-1.5046787345508003e-17"
            ]
          },
          "metadata": {
            "tags": []
          },
          "execution_count": 43
        }
      ]
    },
    {
      "cell_type": "code",
      "metadata": {
        "id": "KathVPAOCXFC"
      },
      "source": [
        "X_train_full, X_test, y_train_full, y_test = train_test_split(sc_features,target,test_size=.33,random_state=42)\n",
        "X_train, X_valid, y_train, y_valid = train_test_split(X_train_full, y_train_full)\n",
        "# scaler = StandardScaler()\n",
        "# X_train_scaled = scaler.fit_transform(X_train)\n",
        "# X_valid_scaled = scaler.transform(X_valid)\n",
        "# X_test_scaled = scaler.transform(X_test)"
      ],
      "execution_count": 44,
      "outputs": []
    },
    {
      "cell_type": "code",
      "metadata": {
        "colab": {
          "base_uri": "https://localhost:8080/"
        },
        "id": "0caH95mvCini",
        "outputId": "42bfb353-9bcd-415a-e05f-2f5a55519100"
      },
      "source": [
        "X_train.shape"
      ],
      "execution_count": 45,
      "outputs": [
        {
          "output_type": "execute_result",
          "data": {
            "text/plain": [
              "(8542, 8)"
            ]
          },
          "metadata": {
            "tags": []
          },
          "execution_count": 45
        }
      ]
    },
    {
      "cell_type": "markdown",
      "metadata": {
        "id": "P_Fi8osU1ftf"
      },
      "source": [
        "# ML Model"
      ]
    },
    {
      "cell_type": "code",
      "metadata": {
        "colab": {
          "base_uri": "https://localhost:8080/"
        },
        "id": "ITI1sud21iPX",
        "outputId": "9b4bb554-f9b1-4449-bb0f-5a95d8b9352c"
      },
      "source": [
        "\n",
        "from sklearn.linear_model import *\n",
        "lr = LinearRegression()\n",
        "lr.fit(X_train,y_train)"
      ],
      "execution_count": 46,
      "outputs": [
        {
          "output_type": "execute_result",
          "data": {
            "text/plain": [
              "LinearRegression(copy_X=True, fit_intercept=True, n_jobs=None, normalize=False)"
            ]
          },
          "metadata": {
            "tags": []
          },
          "execution_count": 46
        }
      ]
    },
    {
      "cell_type": "markdown",
      "metadata": {
        "id": "iXAfmnky2c99"
      },
      "source": [
        "#evaluate the model (intercept and slope)\n"
      ]
    },
    {
      "cell_type": "code",
      "metadata": {
        "colab": {
          "base_uri": "https://localhost:8080/"
        },
        "id": "CPs7lw8H2coo",
        "outputId": "7318ae1e-559a-4897-f724-3f392010ba61"
      },
      "source": [
        "print(lr.intercept_)\n",
        "print(lr.coef_)"
      ],
      "execution_count": 47,
      "outputs": [
        {
          "output_type": "stream",
          "text": [
            "206462.3488920716\n",
            "[-86250.37333387 -92133.68386882  14187.92527905 -16879.56966517\n",
            "  43343.42334263 -44569.66785679  21575.68764976  76888.09129495]\n"
          ],
          "name": "stdout"
        }
      ]
    },
    {
      "cell_type": "markdown",
      "metadata": {
        "id": "Zq12u2223D1g"
      },
      "source": [
        "#predicting the test set result\n"
      ]
    },
    {
      "cell_type": "code",
      "metadata": {
        "colab": {
          "base_uri": "https://localhost:8080/",
          "height": 362
        },
        "id": "m3VCZa5O3E58",
        "outputId": "a17c722b-74d2-4442-b25d-c8538a8e4dea"
      },
      "source": [
        "y_pred = lr.predict(X_test)\n",
        "#put results as a DataFrame\n",
        "coeff_df = pd.DataFrame(lr.coef_, df.drop('median_house_value',axis =1).columns, columns=['Coefficient']) \n",
        "coeff_df\n",
        "sns.distplot((y_test-y_pred))"
      ],
      "execution_count": 48,
      "outputs": [
        {
          "output_type": "stream",
          "text": [
            "/usr/local/lib/python3.7/dist-packages/seaborn/distributions.py:2557: FutureWarning: `distplot` is a deprecated function and will be removed in a future version. Please adapt your code to use either `displot` (a figure-level function with similar flexibility) or `histplot` (an axes-level function for histograms).\n",
            "  warnings.warn(msg, FutureWarning)\n"
          ],
          "name": "stderr"
        },
        {
          "output_type": "execute_result",
          "data": {
            "text/plain": [
              "<matplotlib.axes._subplots.AxesSubplot at 0x7f6c6b1f5250>"
            ]
          },
          "metadata": {
            "tags": []
          },
          "execution_count": 48
        },
        {
          "output_type": "display_data",
          "data": {
            "image/png": "[encoded data removed]",
            "text/plain": [
              "<Figure size 432x288 with 1 Axes>"
            ]
          },
          "metadata": {
            "tags": [],
            "needs_background": "light"
          }
        }
      ]
    },
    {
      "cell_type": "markdown",
      "metadata": {
        "id": "HF-sB2TI4IN8"
      },
      "source": [
        "# evaluate the performance of the algorithm (MAE - MSE - RMSE)\n"
      ]
    },
    {
      "cell_type": "code",
      "metadata": {
        "colab": {
          "base_uri": "https://localhost:8080/"
        },
        "id": "CxPYE7Ic4NIt",
        "outputId": "095c0dcd-4f0c-4625-c805-e8be9b1d855e"
      },
      "source": [
        "from sklearn import metrics\n",
        "\n",
        "print('MAE:', metrics.mean_absolute_error(y_test, y_pred))  \n",
        "print('MSE:', metrics.mean_squared_error(y_test, y_pred))  \n",
        "print('RMSE:', np.sqrt(metrics.mean_squared_error(y_test, y_pred)))\n",
        "print('VarScore:',metrics.explained_variance_score(y_test,y_pred))\n",
        "print(\"r2: \",metrics.r2_score(y_test,y_pred))"
      ],
      "execution_count": 49,
      "outputs": [
        {
          "output_type": "stream",
          "text": [
            "MAE: 50671.08389873943\n",
            "MSE: 4765340390.777376\n",
            "RMSE: 69031.44494197826\n",
            "VarScore: 0.6533652998697276\n",
            "r2:  0.6530289897394992\n"
          ],
          "name": "stdout"
        }
      ]
    },
    {
      "cell_type": "markdown",
      "metadata": {
        "id": "-GLgUcTc1b6S"
      },
      "source": [
        "## Keras Model"
      ]
    },
    {
      "cell_type": "code",
      "metadata": {
        "id": "rMJP3d7dhX6I"
      },
      "source": [
        "model = Sequential()\n"
      ],
      "execution_count": 50,
      "outputs": []
    },
    {
      "cell_type": "code",
      "metadata": {
        "id": "5U0sNHaFh8n8"
      },
      "source": [
        "model.add(Dense(20,activation=\"elu\",input_dim=8))\n",
        "model.add(Dense(10,activation=\"elu\"))\n",
        "model.add(Dense(5,activation=\"elu\"))\n"
      ],
      "execution_count": 51,
      "outputs": []
    },
    {
      "cell_type": "code",
      "metadata": {
        "id": "bNfWBuYRijGl"
      },
      "source": [
        "model.add(Dense(1))"
      ],
      "execution_count": 52,
      "outputs": []
    },
    {
      "cell_type": "code",
      "metadata": {
        "id": "4RKwY_8oisCw"
      },
      "source": [
        "model.compile(optimizer='adam',loss=\"mse\")\n",
        "run_logdir = get_run_logdir()\n",
        "tensorboard_cb = TensorBoard(run_logdir)"
      ],
      "execution_count": 53,
      "outputs": []
    },
    {
      "cell_type": "code",
      "metadata": {
        "colab": {
          "base_uri": "https://localhost:8080/"
        },
        "id": "jqGLB_gWi3Wt",
        "outputId": "b1c78998-bb40-484b-e956-ef36cf5dff77"
      },
      "source": [
        "model.fit(X_train, y_train, callbacks=[tensorboard_cb] , epochs=200 , validation_data=(X_valid,y_valid))\n"
      ],
      "execution_count": 54,
      "outputs": [
        {
          "output_type": "stream",
          "text": [
            "Epoch 1/200\n",
            "267/267 [==============================] - 2s 4ms/step - loss: 54934761991.6418 - val_loss: 56357756928.0000\n",
            "Epoch 2/200\n",
            "267/267 [==============================] - 1s 2ms/step - loss: 55372307486.5672 - val_loss: 55946330112.0000\n",
            "Epoch 3/200\n",
            "267/267 [==============================] - 1s 3ms/step - loss: 53759869096.1194 - val_loss: 54185312256.0000\n",
            "Epoch 4/200\n",
            "267/267 [==============================] - 1s 3ms/step - loss: 52431949151.5224 - val_loss: 49984450560.0000\n",
            "Epoch 5/200\n",
            "267/267 [==============================] - 1s 2ms/step - loss: 47983321408.9552 - val_loss: 42724298752.0000\n",
            "Epoch 6/200\n",
            "267/267 [==============================] - 1s 2ms/step - loss: 39673381314.8657 - val_loss: 33639694336.0000\n",
            "Epoch 7/200\n",
            "267/267 [==============================] - 1s 2ms/step - loss: 30237675038.5672 - val_loss: 25339209728.0000\n",
            "Epoch 8/200\n",
            "267/267 [==============================] - 1s 2ms/step - loss: 22989584811.9403 - val_loss: 20264861696.0000\n",
            "Epoch 9/200\n",
            "267/267 [==============================] - 1s 2ms/step - loss: 18903661170.6269 - val_loss: 17559623680.0000\n",
            "Epoch 10/200\n",
            "267/267 [==============================] - 1s 2ms/step - loss: 17045367918.8060 - val_loss: 15923571712.0000\n",
            "Epoch 11/200\n",
            "267/267 [==============================] - 1s 2ms/step - loss: 14673469287.1642 - val_loss: 14517964800.0000\n",
            "Epoch 12/200\n",
            "267/267 [==============================] - 1s 3ms/step - loss: 13694721375.5224 - val_loss: 13148252160.0000\n",
            "Epoch 13/200\n",
            "267/267 [==============================] - 1s 2ms/step - loss: 13213136789.0149 - val_loss: 11788490752.0000\n",
            "Epoch 14/200\n",
            "267/267 [==============================] - 1s 2ms/step - loss: 10688759777.4328 - val_loss: 10592152576.0000\n",
            "Epoch 15/200\n",
            "267/267 [==============================] - 1s 2ms/step - loss: 10364547603.1045 - val_loss: 9738643456.0000\n",
            "Epoch 16/200\n",
            "267/267 [==============================] - 1s 2ms/step - loss: 9796851350.9254 - val_loss: 8990710784.0000\n",
            "Epoch 17/200\n",
            "267/267 [==============================] - 1s 2ms/step - loss: 8665186796.8955 - val_loss: 8352431616.0000\n",
            "Epoch 18/200\n",
            "267/267 [==============================] - 1s 2ms/step - loss: 7963462176.4776 - val_loss: 7798934016.0000\n",
            "Epoch 19/200\n",
            "267/267 [==============================] - 1s 2ms/step - loss: 7325366019.8209 - val_loss: 7324474368.0000\n",
            "Epoch 20/200\n",
            "267/267 [==============================] - 1s 3ms/step - loss: 6595537207.4030 - val_loss: 6907518464.0000\n",
            "Epoch 21/200\n",
            "267/267 [==============================] - 1s 2ms/step - loss: 6220893069.3731 - val_loss: 6559830528.0000\n",
            "Epoch 22/200\n",
            "267/267 [==============================] - 1s 2ms/step - loss: 6013950374.2090 - val_loss: 6269475840.0000\n",
            "Epoch 23/200\n",
            "267/267 [==============================] - 1s 3ms/step - loss: 6087914730.9851 - val_loss: 6033735168.0000\n",
            "Epoch 24/200\n",
            "267/267 [==============================] - 1s 2ms/step - loss: 5343756042.5075 - val_loss: 5849683968.0000\n",
            "Epoch 25/200\n",
            "267/267 [==============================] - 1s 2ms/step - loss: 5529136944.7164 - val_loss: 5693811712.0000\n",
            "Epoch 26/200\n",
            "267/267 [==============================] - 1s 2ms/step - loss: 5244243526.6866 - val_loss: 5567302144.0000\n",
            "Epoch 27/200\n",
            "267/267 [==============================] - 1s 2ms/step - loss: 5161334187.9403 - val_loss: 5458023424.0000\n",
            "Epoch 28/200\n",
            "267/267 [==============================] - 1s 2ms/step - loss: 4915806085.7313 - val_loss: 5380553728.0000\n",
            "Epoch 29/200\n",
            "267/267 [==============================] - 1s 3ms/step - loss: 4796609404.1791 - val_loss: 5306896384.0000\n",
            "Epoch 30/200\n",
            "267/267 [==============================] - 1s 2ms/step - loss: 4912531473.1940 - val_loss: 5250346496.0000\n",
            "Epoch 31/200\n",
            "267/267 [==============================] - 1s 3ms/step - loss: 5189248246.4478 - val_loss: 5197057536.0000\n",
            "Epoch 32/200\n",
            "267/267 [==============================] - 1s 2ms/step - loss: 4664710190.8060 - val_loss: 5153607680.0000\n",
            "Epoch 33/200\n",
            "267/267 [==============================] - 1s 2ms/step - loss: 4845334196.5373 - val_loss: 5113194496.0000\n",
            "Epoch 34/200\n",
            "267/267 [==============================] - 1s 2ms/step - loss: 4907271907.3433 - val_loss: 5080910336.0000\n",
            "Epoch 35/200\n",
            "267/267 [==============================] - 1s 2ms/step - loss: 5117564310.9254 - val_loss: 5050427392.0000\n",
            "Epoch 36/200\n",
            "267/267 [==============================] - 1s 3ms/step - loss: 4807633348.7761 - val_loss: 5028528128.0000\n",
            "Epoch 37/200\n",
            "267/267 [==============================] - 1s 2ms/step - loss: 4782369235.1045 - val_loss: 4998542848.0000\n",
            "Epoch 38/200\n",
            "267/267 [==============================] - 1s 2ms/step - loss: 4697865770.0299 - val_loss: 4977974784.0000\n",
            "Epoch 39/200\n",
            "267/267 [==============================] - 1s 3ms/step - loss: 4823967083.9403 - val_loss: 4957660672.0000\n",
            "Epoch 40/200\n",
            "267/267 [==============================] - 1s 3ms/step - loss: 4796945524.5373 - val_loss: 4938753024.0000\n",
            "Epoch 41/200\n",
            "267/267 [==============================] - 1s 3ms/step - loss: 4631873537.9104 - val_loss: 4916232192.0000\n",
            "Epoch 42/200\n",
            "267/267 [==============================] - 1s 2ms/step - loss: 4593316791.4030 - val_loss: 4901047296.0000\n",
            "Epoch 43/200\n",
            "267/267 [==============================] - 1s 3ms/step - loss: 4738272652.4179 - val_loss: 4883844096.0000\n",
            "Epoch 44/200\n",
            "267/267 [==============================] - 1s 3ms/step - loss: 4492994063.2836 - val_loss: 4871819776.0000\n",
            "Epoch 45/200\n",
            "267/267 [==============================] - 1s 3ms/step - loss: 4585720066.8657 - val_loss: 4853298176.0000\n",
            "Epoch 46/200\n",
            "267/267 [==============================] - 1s 3ms/step - loss: 4608738592.4776 - val_loss: 4837228032.0000\n",
            "Epoch 47/200\n",
            "267/267 [==============================] - 1s 2ms/step - loss: 4553137102.3284 - val_loss: 4826379776.0000\n",
            "Epoch 48/200\n",
            "267/267 [==============================] - 1s 2ms/step - loss: 4624013407.5224 - val_loss: 4810606592.0000\n",
            "Epoch 49/200\n",
            "267/267 [==============================] - 1s 2ms/step - loss: 4426432513.9104 - val_loss: 4796897792.0000\n",
            "Epoch 50/200\n",
            "267/267 [==============================] - 1s 3ms/step - loss: 4472008816.7164 - val_loss: 4788167168.0000\n",
            "Epoch 51/200\n",
            "267/267 [==============================] - 1s 2ms/step - loss: 4584241618.1493 - val_loss: 4777667072.0000\n",
            "Epoch 52/200\n",
            "267/267 [==============================] - 1s 2ms/step - loss: 4339361873.1940 - val_loss: 4765265920.0000\n",
            "Epoch 53/200\n",
            "267/267 [==============================] - 1s 2ms/step - loss: 4682362776.8358 - val_loss: 4752410624.0000\n",
            "Epoch 54/200\n",
            "267/267 [==============================] - 1s 3ms/step - loss: 4606891619.3433 - val_loss: 4745077760.0000\n",
            "Epoch 55/200\n",
            "267/267 [==============================] - 1s 2ms/step - loss: 4613621415.1642 - val_loss: 4732308480.0000\n",
            "Epoch 56/200\n",
            "267/267 [==============================] - 1s 2ms/step - loss: 4390670396.1791 - val_loss: 4723266560.0000\n",
            "Epoch 57/200\n",
            "267/267 [==============================] - 1s 3ms/step - loss: 4591796267.9403 - val_loss: 4712111104.0000\n",
            "Epoch 58/200\n",
            "267/267 [==============================] - 1s 3ms/step - loss: 4443235751.1642 - val_loss: 4708558336.0000\n",
            "Epoch 59/200\n",
            "267/267 [==============================] - 1s 3ms/step - loss: 4559400830.0896 - val_loss: 4692080128.0000\n",
            "Epoch 60/200\n",
            "267/267 [==============================] - 1s 2ms/step - loss: 4246568333.3731 - val_loss: 4686645248.0000\n",
            "Epoch 61/200\n",
            "267/267 [==============================] - 1s 3ms/step - loss: 4389998247.1642 - val_loss: 4676208128.0000\n",
            "Epoch 62/200\n",
            "267/267 [==============================] - 1s 2ms/step - loss: 4550077631.0448 - val_loss: 4666695168.0000\n",
            "Epoch 63/200\n",
            "267/267 [==============================] - 1s 3ms/step - loss: 4405797125.7313 - val_loss: 4659951104.0000\n",
            "Epoch 64/200\n",
            "267/267 [==============================] - 1s 3ms/step - loss: 4248454155.4627 - val_loss: 4653390848.0000\n",
            "Epoch 65/200\n",
            "267/267 [==============================] - 1s 2ms/step - loss: 4468033935.2836 - val_loss: 4653827072.0000\n",
            "Epoch 66/200\n",
            "267/267 [==============================] - 1s 2ms/step - loss: 4369662140.1791 - val_loss: 4637511680.0000\n",
            "Epoch 67/200\n",
            "267/267 [==============================] - 1s 2ms/step - loss: 4249335637.0149 - val_loss: 4638439424.0000\n",
            "Epoch 68/200\n",
            "267/267 [==============================] - 1s 2ms/step - loss: 4372695035.2239 - val_loss: 4617966080.0000\n",
            "Epoch 69/200\n",
            "267/267 [==============================] - 1s 3ms/step - loss: 4374457129.0746 - val_loss: 4611414528.0000\n",
            "Epoch 70/200\n",
            "267/267 [==============================] - 1s 3ms/step - loss: 4308341538.3881 - val_loss: 4607365632.0000\n",
            "Epoch 71/200\n",
            "267/267 [==============================] - 1s 3ms/step - loss: 4244845072.2388 - val_loss: 4600247296.0000\n",
            "Epoch 72/200\n",
            "267/267 [==============================] - 1s 3ms/step - loss: 4292618021.2537 - val_loss: 4590907904.0000\n",
            "Epoch 73/200\n",
            "267/267 [==============================] - 1s 2ms/step - loss: 4423265132.8955 - val_loss: 4583127040.0000\n",
            "Epoch 74/200\n",
            "267/267 [==============================] - 1s 2ms/step - loss: 4410628047.2836 - val_loss: 4573825024.0000\n",
            "Epoch 75/200\n",
            "267/267 [==============================] - 1s 3ms/step - loss: 4320258480.7164 - val_loss: 4566643712.0000\n",
            "Epoch 76/200\n",
            "267/267 [==============================] - 1s 2ms/step - loss: 4381162117.7313 - val_loss: 4559444480.0000\n",
            "Epoch 77/200\n",
            "267/267 [==============================] - 1s 2ms/step - loss: 4263629640.5970 - val_loss: 4554057728.0000\n",
            "Epoch 78/200\n",
            "267/267 [==============================] - 1s 3ms/step - loss: 4365839026.6269 - val_loss: 4552558592.0000\n",
            "Epoch 79/200\n",
            "267/267 [==============================] - 1s 2ms/step - loss: 4240907210.5075 - val_loss: 4543754752.0000\n",
            "Epoch 80/200\n",
            "267/267 [==============================] - 1s 3ms/step - loss: 4319881266.6269 - val_loss: 4538174464.0000\n",
            "Epoch 81/200\n",
            "267/267 [==============================] - 1s 3ms/step - loss: 4122087224.8358 - val_loss: 4527598592.0000\n",
            "Epoch 82/200\n",
            "267/267 [==============================] - 1s 2ms/step - loss: 4290818220.8955 - val_loss: 4527251968.0000\n",
            "Epoch 83/200\n",
            "267/267 [==============================] - 1s 2ms/step - loss: 4442183976.1194 - val_loss: 4516744704.0000\n",
            "Epoch 84/200\n",
            "267/267 [==============================] - 1s 2ms/step - loss: 4254382116.2985 - val_loss: 4510129152.0000\n",
            "Epoch 85/200\n",
            "267/267 [==============================] - 1s 2ms/step - loss: 4218977453.8507 - val_loss: 4507995648.0000\n",
            "Epoch 86/200\n",
            "267/267 [==============================] - 1s 3ms/step - loss: 4196901740.8955 - val_loss: 4498746880.0000\n",
            "Epoch 87/200\n",
            "267/267 [==============================] - 1s 3ms/step - loss: 4414877193.5522 - val_loss: 4496185856.0000\n",
            "Epoch 88/200\n",
            "267/267 [==============================] - 1s 3ms/step - loss: 4097076556.4179 - val_loss: 4487688192.0000\n",
            "Epoch 89/200\n",
            "267/267 [==============================] - 1s 2ms/step - loss: 4350076724.5373 - val_loss: 4480108032.0000\n",
            "Epoch 90/200\n",
            "267/267 [==============================] - 1s 2ms/step - loss: 4273171744.4776 - val_loss: 4478002176.0000\n",
            "Epoch 91/200\n",
            "267/267 [==============================] - 1s 3ms/step - loss: 4300238280.5970 - val_loss: 4466415616.0000\n",
            "Epoch 92/200\n",
            "267/267 [==============================] - 1s 2ms/step - loss: 4002870747.2239 - val_loss: 4466150400.0000\n",
            "Epoch 93/200\n",
            "267/267 [==============================] - 1s 2ms/step - loss: 4438412685.3731 - val_loss: 4458971648.0000\n",
            "Epoch 94/200\n",
            "267/267 [==============================] - 1s 3ms/step - loss: 4213184758.9254 - val_loss: 4455697408.0000\n",
            "Epoch 95/200\n",
            "267/267 [==============================] - 1s 2ms/step - loss: 4047217232.2388 - val_loss: 4450893824.0000\n",
            "Epoch 96/200\n",
            "267/267 [==============================] - 1s 2ms/step - loss: 4195979456.0000 - val_loss: 4442387456.0000\n",
            "Epoch 97/200\n",
            "267/267 [==============================] - 1s 2ms/step - loss: 4080757101.8507 - val_loss: 4440559616.0000\n",
            "Epoch 98/200\n",
            "267/267 [==============================] - 1s 2ms/step - loss: 4355878550.9254 - val_loss: 4430806528.0000\n",
            "Epoch 99/200\n",
            "267/267 [==============================] - 1s 2ms/step - loss: 4034781393.1940 - val_loss: 4425427968.0000\n",
            "Epoch 100/200\n",
            "267/267 [==============================] - 1s 2ms/step - loss: 4215629144.8358 - val_loss: 4419900928.0000\n",
            "Epoch 101/200\n",
            "267/267 [==============================] - 1s 3ms/step - loss: 4145589050.2687 - val_loss: 4415997952.0000\n",
            "Epoch 102/200\n",
            "267/267 [==============================] - 1s 3ms/step - loss: 4091093126.6866 - val_loss: 4413714432.0000\n",
            "Epoch 103/200\n",
            "267/267 [==============================] - 1s 2ms/step - loss: 4221000919.8806 - val_loss: 4407004160.0000\n",
            "Epoch 104/200\n",
            "267/267 [==============================] - 1s 3ms/step - loss: 4157119419.2239 - val_loss: 4406525440.0000\n",
            "Epoch 105/200\n",
            "267/267 [==============================] - 1s 2ms/step - loss: 3973733548.8955 - val_loss: 4394651648.0000\n",
            "Epoch 106/200\n",
            "267/267 [==============================] - 1s 2ms/step - loss: 4255200757.4925 - val_loss: 4393622016.0000\n",
            "Epoch 107/200\n",
            "267/267 [==============================] - 1s 3ms/step - loss: 4044118212.7761 - val_loss: 4388152832.0000\n",
            "Epoch 108/200\n",
            "267/267 [==============================] - 1s 3ms/step - loss: 4143816374.4478 - val_loss: 4383593472.0000\n",
            "Epoch 109/200\n",
            "267/267 [==============================] - 1s 3ms/step - loss: 4315096774.6866 - val_loss: 4382829056.0000\n",
            "Epoch 110/200\n",
            "267/267 [==============================] - 1s 2ms/step - loss: 4127015804.1791 - val_loss: 4377017856.0000\n",
            "Epoch 111/200\n",
            "267/267 [==============================] - 1s 2ms/step - loss: 3974563061.4925 - val_loss: 4372755968.0000\n",
            "Epoch 112/200\n",
            "267/267 [==============================] - 1s 3ms/step - loss: 3972581775.2836 - val_loss: 4375980544.0000\n",
            "Epoch 113/200\n",
            "267/267 [==============================] - 1s 2ms/step - loss: 4120958384.7164 - val_loss: 4365938176.0000\n",
            "Epoch 114/200\n",
            "267/267 [==============================] - 1s 2ms/step - loss: 4068693781.9701 - val_loss: 4363736064.0000\n",
            "Epoch 115/200\n",
            "267/267 [==============================] - 1s 3ms/step - loss: 3889875608.8358 - val_loss: 4355047424.0000\n",
            "Epoch 116/200\n",
            "267/267 [==============================] - 1s 2ms/step - loss: 4082448193.9104 - val_loss: 4352285696.0000\n",
            "Epoch 117/200\n",
            "267/267 [==============================] - 1s 2ms/step - loss: 4078055350.4478 - val_loss: 4353521152.0000\n",
            "Epoch 118/200\n",
            "267/267 [==============================] - 1s 2ms/step - loss: 4168397377.9104 - val_loss: 4344721408.0000\n",
            "Epoch 119/200\n",
            "267/267 [==============================] - 1s 3ms/step - loss: 4101665535.0448 - val_loss: 4347248640.0000\n",
            "Epoch 120/200\n",
            "267/267 [==============================] - 1s 2ms/step - loss: 4055400844.4179 - val_loss: 4337524224.0000\n",
            "Epoch 121/200\n",
            "267/267 [==============================] - 1s 2ms/step - loss: 3973270351.2836 - val_loss: 4335475712.0000\n",
            "Epoch 122/200\n",
            "267/267 [==============================] - 1s 2ms/step - loss: 4082918672.2388 - val_loss: 4333769728.0000\n",
            "Epoch 123/200\n",
            "267/267 [==============================] - 1s 2ms/step - loss: 4142448259.8209 - val_loss: 4332027904.0000\n",
            "Epoch 124/200\n",
            "267/267 [==============================] - 1s 3ms/step - loss: 4036019274.5075 - val_loss: 4325492224.0000\n",
            "Epoch 125/200\n",
            "267/267 [==============================] - 1s 3ms/step - loss: 4060685162.0299 - val_loss: 4322944512.0000\n",
            "Epoch 126/200\n",
            "267/267 [==============================] - 1s 2ms/step - loss: 4086676381.6119 - val_loss: 4318570496.0000\n",
            "Epoch 127/200\n",
            "267/267 [==============================] - 1s 3ms/step - loss: 3958484265.0746 - val_loss: 4320484864.0000\n",
            "Epoch 128/200\n",
            "267/267 [==============================] - 1s 2ms/step - loss: 3899878819.8209 - val_loss: 4314063360.0000\n",
            "Epoch 129/200\n",
            "267/267 [==============================] - 1s 2ms/step - loss: 4011076392.1194 - val_loss: 4309209600.0000\n",
            "Epoch 130/200\n",
            "267/267 [==============================] - 1s 3ms/step - loss: 4029879444.0597 - val_loss: 4304657920.0000\n",
            "Epoch 131/200\n",
            "267/267 [==============================] - 1s 2ms/step - loss: 4002618704.2388 - val_loss: 4303603712.0000\n",
            "Epoch 132/200\n",
            "267/267 [==============================] - 1s 2ms/step - loss: 4097310476.4179 - val_loss: 4299235328.0000\n",
            "Epoch 133/200\n",
            "267/267 [==============================] - 1s 2ms/step - loss: 4197388275.5821 - val_loss: 4301095936.0000\n",
            "Epoch 134/200\n",
            "267/267 [==============================] - 1s 3ms/step - loss: 4090887300.7761 - val_loss: 4296024576.0000\n",
            "Epoch 135/200\n",
            "267/267 [==============================] - 1s 2ms/step - loss: 4156967534.8060 - val_loss: 4292024832.0000\n",
            "Epoch 136/200\n",
            "267/267 [==============================] - 1s 2ms/step - loss: 3885677859.8209 - val_loss: 4287913216.0000\n",
            "Epoch 137/200\n",
            "267/267 [==============================] - 1s 2ms/step - loss: 4039720812.8955 - val_loss: 4284924416.0000\n",
            "Epoch 138/200\n",
            "267/267 [==============================] - 1s 3ms/step - loss: 3959076197.2537 - val_loss: 4283725568.0000\n",
            "Epoch 139/200\n",
            "267/267 [==============================] - 1s 2ms/step - loss: 4020752159.5224 - val_loss: 4281983744.0000\n",
            "Epoch 140/200\n",
            "267/267 [==============================] - 1s 3ms/step - loss: 4090218430.0896 - val_loss: 4279865600.0000\n",
            "Epoch 141/200\n",
            "267/267 [==============================] - 1s 2ms/step - loss: 3950125774.3284 - val_loss: 4274586368.0000\n",
            "Epoch 142/200\n",
            "267/267 [==============================] - 1s 3ms/step - loss: 3927798917.2537 - val_loss: 4273136384.0000\n",
            "Epoch 143/200\n",
            "267/267 [==============================] - 1s 2ms/step - loss: 3907121707.9403 - val_loss: 4271006976.0000\n",
            "Epoch 144/200\n",
            "267/267 [==============================] - 1s 3ms/step - loss: 3808546560.9552 - val_loss: 4271422976.0000\n",
            "Epoch 145/200\n",
            "267/267 [==============================] - 1s 2ms/step - loss: 3906687813.7313 - val_loss: 4268767744.0000\n",
            "Epoch 146/200\n",
            "267/267 [==============================] - 1s 2ms/step - loss: 3992172139.9403 - val_loss: 4262989312.0000\n",
            "Epoch 147/200\n",
            "267/267 [==============================] - 1s 2ms/step - loss: 4049134413.3731 - val_loss: 4260725504.0000\n",
            "Epoch 148/200\n",
            "267/267 [==============================] - 1s 2ms/step - loss: 3970164226.8657 - val_loss: 4257016832.0000\n",
            "Epoch 149/200\n",
            "267/267 [==============================] - 1s 2ms/step - loss: 4070597606.2090 - val_loss: 4256319744.0000\n",
            "Epoch 150/200\n",
            "267/267 [==============================] - 1s 3ms/step - loss: 3973249972.5373 - val_loss: 4253214208.0000\n",
            "Epoch 151/200\n",
            "267/267 [==============================] - 1s 2ms/step - loss: 4218284877.3731 - val_loss: 4252436992.0000\n",
            "Epoch 152/200\n",
            "267/267 [==============================] - 1s 3ms/step - loss: 4136270504.1194 - val_loss: 4249928192.0000\n",
            "Epoch 153/200\n",
            "267/267 [==============================] - 1s 2ms/step - loss: 4027492579.3433 - val_loss: 4249179648.0000\n",
            "Epoch 154/200\n",
            "267/267 [==============================] - 1s 3ms/step - loss: 3978809138.6269 - val_loss: 4248748288.0000\n",
            "Epoch 155/200\n",
            "267/267 [==============================] - 1s 2ms/step - loss: 4021670595.8209 - val_loss: 4248407552.0000\n",
            "Epoch 156/200\n",
            "267/267 [==============================] - 1s 3ms/step - loss: 4187401104.2388 - val_loss: 4243888128.0000\n",
            "Epoch 157/200\n",
            "267/267 [==============================] - 1s 3ms/step - loss: 3967936452.7761 - val_loss: 4238576896.0000\n",
            "Epoch 158/200\n",
            "267/267 [==============================] - 1s 3ms/step - loss: 4224370770.1493 - val_loss: 4240716800.0000\n",
            "Epoch 159/200\n",
            "267/267 [==============================] - 1s 3ms/step - loss: 3994889511.1642 - val_loss: 4238679552.0000\n",
            "Epoch 160/200\n",
            "267/267 [==============================] - 1s 3ms/step - loss: 3878681572.2985 - val_loss: 4234022912.0000\n",
            "Epoch 161/200\n",
            "267/267 [==============================] - 1s 3ms/step - loss: 4035866186.5075 - val_loss: 4232877568.0000\n",
            "Epoch 162/200\n",
            "267/267 [==============================] - 1s 2ms/step - loss: 3918479328.4776 - val_loss: 4229732352.0000\n",
            "Epoch 163/200\n",
            "267/267 [==============================] - 1s 3ms/step - loss: 4231311656.1194 - val_loss: 4227116544.0000\n",
            "Epoch 164/200\n",
            "267/267 [==============================] - 1s 3ms/step - loss: 3888360795.7015 - val_loss: 4224961536.0000\n",
            "Epoch 165/200\n",
            "267/267 [==============================] - 1s 3ms/step - loss: 3720334630.2090 - val_loss: 4222955264.0000\n",
            "Epoch 166/200\n",
            "267/267 [==============================] - 1s 2ms/step - loss: 3956094669.3731 - val_loss: 4221961984.0000\n",
            "Epoch 167/200\n",
            "267/267 [==============================] - 1s 2ms/step - loss: 3851612635.7015 - val_loss: 4224987648.0000\n",
            "Epoch 168/200\n",
            "267/267 [==============================] - 1s 2ms/step - loss: 3945838895.7612 - val_loss: 4220772096.0000\n",
            "Epoch 169/200\n",
            "267/267 [==============================] - 1s 2ms/step - loss: 3890934841.3134 - val_loss: 4220731904.0000\n",
            "Epoch 170/200\n",
            "267/267 [==============================] - 1s 3ms/step - loss: 4038378021.2537 - val_loss: 4216104192.0000\n",
            "Epoch 171/200\n",
            "267/267 [==============================] - 1s 2ms/step - loss: 3784033461.4925 - val_loss: 4216035072.0000\n",
            "Epoch 172/200\n",
            "267/267 [==============================] - 1s 2ms/step - loss: 4035711019.9403 - val_loss: 4212101888.0000\n",
            "Epoch 173/200\n",
            "267/267 [==============================] - 1s 2ms/step - loss: 3906531860.0597 - val_loss: 4209799168.0000\n",
            "Epoch 174/200\n",
            "267/267 [==============================] - 1s 3ms/step - loss: 3705150805.9701 - val_loss: 4209234432.0000\n",
            "Epoch 175/200\n",
            "267/267 [==============================] - 1s 2ms/step - loss: 3863948338.6269 - val_loss: 4207625472.0000\n",
            "Epoch 176/200\n",
            "267/267 [==============================] - 1s 3ms/step - loss: 3947503479.4030 - val_loss: 4206690560.0000\n",
            "Epoch 177/200\n",
            "267/267 [==============================] - 1s 2ms/step - loss: 4078747142.6866 - val_loss: 4204497920.0000\n",
            "Epoch 178/200\n",
            "267/267 [==============================] - 1s 2ms/step - loss: 3823793718.4478 - val_loss: 4202487808.0000\n",
            "Epoch 179/200\n",
            "267/267 [==============================] - 1s 3ms/step - loss: 3751298207.5224 - val_loss: 4199900416.0000\n",
            "Epoch 180/200\n",
            "267/267 [==============================] - 1s 3ms/step - loss: 4056011854.3284 - val_loss: 4197713664.0000\n",
            "Epoch 181/200\n",
            "267/267 [==============================] - 1s 3ms/step - loss: 3955966029.3731 - val_loss: 4198625280.0000\n",
            "Epoch 182/200\n",
            "267/267 [==============================] - 1s 3ms/step - loss: 3861668124.6567 - val_loss: 4198203392.0000\n",
            "Epoch 183/200\n",
            "267/267 [==============================] - 1s 2ms/step - loss: 3903234202.7463 - val_loss: 4198795008.0000\n",
            "Epoch 184/200\n",
            "267/267 [==============================] - 1s 3ms/step - loss: 3991521288.5970 - val_loss: 4194226688.0000\n",
            "Epoch 185/200\n",
            "267/267 [==============================] - 1s 2ms/step - loss: 3985361785.3134 - val_loss: 4194601984.0000\n",
            "Epoch 186/200\n",
            "267/267 [==============================] - 1s 2ms/step - loss: 3987151592.1194 - val_loss: 4192338176.0000\n",
            "Epoch 187/200\n",
            "267/267 [==============================] - 1s 2ms/step - loss: 3800697537.9104 - val_loss: 4188907264.0000\n",
            "Epoch 188/200\n",
            "267/267 [==============================] - 1s 3ms/step - loss: 3761523573.4925 - val_loss: 4188255488.0000\n",
            "Epoch 189/200\n",
            "267/267 [==============================] - 1s 3ms/step - loss: 3782299408.2388 - val_loss: 4186990848.0000\n",
            "Epoch 190/200\n",
            "267/267 [==============================] - 1s 3ms/step - loss: 3885267267.3433 - val_loss: 4186914560.0000\n",
            "Epoch 191/200\n",
            "267/267 [==============================] - 1s 3ms/step - loss: 3850798256.7164 - val_loss: 4184018944.0000\n",
            "Epoch 192/200\n",
            "267/267 [==============================] - 1s 3ms/step - loss: 3838070061.8507 - val_loss: 4184325632.0000\n",
            "Epoch 193/200\n",
            "267/267 [==============================] - 1s 2ms/step - loss: 3886367345.6716 - val_loss: 4181836032.0000\n",
            "Epoch 194/200\n",
            "267/267 [==============================] - 1s 3ms/step - loss: 4074310252.8955 - val_loss: 4179543040.0000\n",
            "Epoch 195/200\n",
            "267/267 [==============================] - 1s 3ms/step - loss: 3752672914.1493 - val_loss: 4178000384.0000\n",
            "Epoch 196/200\n",
            "267/267 [==============================] - 1s 2ms/step - loss: 3947192374.4478 - val_loss: 4176542208.0000\n",
            "Epoch 197/200\n",
            "267/267 [==============================] - 1s 2ms/step - loss: 3955022468.7761 - val_loss: 4176577536.0000\n",
            "Epoch 198/200\n",
            "267/267 [==============================] - 1s 3ms/step - loss: 4020617923.8209 - val_loss: 4177264384.0000\n",
            "Epoch 199/200\n",
            "267/267 [==============================] - 1s 3ms/step - loss: 3927324571.7015 - val_loss: 4172489472.0000\n",
            "Epoch 200/200\n",
            "267/267 [==============================] - 1s 3ms/step - loss: 3969674753.9104 - val_loss: 4171525120.0000\n"
          ],
          "name": "stdout"
        },
        {
          "output_type": "execute_result",
          "data": {
            "text/plain": [
              "<keras.callbacks.History at 0x7f6c6a752e90>"
            ]
          },
          "metadata": {
            "tags": []
          },
          "execution_count": 54
        }
      ]
    },
    {
      "cell_type": "code",
      "metadata": {
        "id": "eQcUEbwIO0DY"
      },
      "source": [
        "#get_ipython().system_raw('tensorboard --logdir=./my_logs --port=6006 &')"
      ],
      "execution_count": 55,
      "outputs": []
    },
    {
      "cell_type": "code",
      "metadata": {
        "id": "n3LLfKxnPRok"
      },
      "source": [
        "# os.system(\"pip install pyngrok\")\n",
        "# from pyngrok import ngrok\n",
        "# print(ngrok.connect(6006,\"http\"))"
      ],
      "execution_count": 56,
      "outputs": []
    },
    {
      "cell_type": "code",
      "metadata": {
        "id": "iYrXhb7QWMql"
      },
      "source": [
        "# !tensorboard --logdir=./my_logs --port=6006"
      ],
      "execution_count": 57,
      "outputs": []
    },
    {
      "cell_type": "code",
      "metadata": {
        "colab": {
          "base_uri": "https://localhost:8080/"
        },
        "id": "B6sV_hNHkm4J",
        "outputId": "da60e90f-9d9d-49f3-9b63-da8d86879c44"
      },
      "source": [
        "model.evaluate(X_test,y_test)"
      ],
      "execution_count": 58,
      "outputs": [
        {
          "output_type": "stream",
          "text": [
            "176/176 [==============================] - 0s 2ms/step - loss: 3972908288.0000\n"
          ],
          "name": "stdout"
        },
        {
          "output_type": "execute_result",
          "data": {
            "text/plain": [
              "3972908288.0"
            ]
          },
          "metadata": {
            "tags": []
          },
          "execution_count": 58
        }
      ]
    },
    {
      "cell_type": "code",
      "metadata": {
        "colab": {
          "base_uri": "https://localhost:8080/"
        },
        "id": "VCF9xO6UO9gz",
        "outputId": "25f84e42-e053-4b36-f4f1-9c7a0fec6238"
      },
      "source": [
        "y_pred = model.predict(X_test)\n",
        "print('MAE:', metrics.mean_absolute_error(y_test, y_pred))  \n",
        "print('MSE:', metrics.mean_squared_error(y_test, y_pred))  \n",
        "print('RMSE:', np.sqrt(metrics.mean_squared_error(y_test, y_pred)))\n",
        "print('VarScore:',metrics.explained_variance_score(y_test,y_pred))\n",
        "\n",
        "print(\"r2: \",metrics.r2_score(y_test,y_pred))\n"
      ],
      "execution_count": 59,
      "outputs": [
        {
          "output_type": "stream",
          "text": [
            "MAE: 44791.949475511086\n",
            "MSE: 3972908799.444148\n",
            "RMSE: 63031.0145836488\n",
            "VarScore: 0.7108729963040671\n",
            "r2:  0.710727027499688\n"
          ],
          "name": "stdout"
        }
      ]
    },
    {
      "cell_type": "code",
      "metadata": {
        "colab": {
          "base_uri": "https://localhost:8080/",
          "height": 337
        },
        "id": "ogKIpoIFINGj",
        "outputId": "386feb23-0365-4cce-b83b-bf2429084b3d"
      },
      "source": [
        "# Visualizing Our predictions\n",
        "fig = plt.figure(figsize=(10,5))\n",
        "plt.scatter(y_test,y_pred)\n",
        "# Perfect predictions\n",
        "plt.plot(y_test,y_test,'r')"
      ],
      "execution_count": 60,
      "outputs": [
        {
          "output_type": "execute_result",
          "data": {
            "text/plain": [
              "[<matplotlib.lines.Line2D at 0x7f6c6a804650>]"
            ]
          },
          "metadata": {
            "tags": []
          },
          "execution_count": 60
        },
        {
          "output_type": "display_data",
          "data": {
            "image/png": "[encoded data removed]",
            "text/plain": [
              "<Figure size 720x360 with 1 Axes>"
            ]
          },
          "metadata": {
            "tags": [],
            "needs_background": "light"
          }
        }
      ]
    },
    {
      "cell_type": "code",
      "metadata": {
        "id": "Lo0CJxE8Iiby"
      },
      "source": [
        " "
      ],
      "execution_count": 60,
      "outputs": []
    },
    {
      "cell_type": "code",
      "metadata": {
        "id": "dqduiiInIr_s"
      },
      "source": [
        " "
      ],
      "execution_count": 60,
      "outputs": []
    },
    {
      "cell_type": "code",
      "metadata": {
        "id": "7p9bddBwI7OV"
      },
      "source": [
        ""
      ],
      "execution_count": 60,
      "outputs": []
    }
  ]
}